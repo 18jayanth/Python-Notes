{
 "cells": [
  {
   "cell_type": "markdown",
   "metadata": {},
   "source": [
    "### PRODUCT OVERVIEW"
   ]
  },
  {
   "cell_type": "code",
   "execution_count": 12,
   "metadata": {},
   "outputs": [],
   "source": [
    "fd=open('inventory.txt','r')\n",
    "txt=fd.read()\n",
    "fd.close()"
   ]
  },
  {
   "cell_type": "code",
   "execution_count": 13,
   "metadata": {},
   "outputs": [
    {
     "name": "stdout",
     "output_type": "stream",
     "text": [
      "1,Desktop,1000,1000\n",
      "2,Laptop,2000,2000\n",
      "3,Mouse,3000,3000\n",
      "4,Keyboard,4000,4000\n",
      "5,Monitor,5000,5000\n"
     ]
    }
   ],
   "source": [
    "print(txt)"
   ]
  },
  {
   "cell_type": "code",
   "execution_count": 14,
   "metadata": {},
   "outputs": [
    {
     "data": {
      "text/plain": [
       "'1,Desktop,1000,1000\\n2,Laptop,2000,2000\\n3,Mouse,3000,3000\\n4,Keyboard,4000,4000\\n5,Monitor,5000,5000'"
      ]
     },
     "execution_count": 14,
     "metadata": {},
     "output_type": "execute_result"
    }
   ],
   "source": [
    "txt"
   ]
  },
  {
   "cell_type": "code",
   "execution_count": 15,
   "metadata": {},
   "outputs": [
    {
     "data": {
      "text/plain": [
       "['1,Desktop,1000,1000',\n",
       " '2,Laptop,2000,2000',\n",
       " '3,Mouse,3000,3000',\n",
       " '4,Keyboard,4000,4000',\n",
       " '5,Monitor,5000,5000']"
      ]
     },
     "execution_count": 15,
     "metadata": {},
     "output_type": "execute_result"
    }
   ],
   "source": [
    "txt.split('\\n')"
   ]
  },
  {
   "cell_type": "code",
   "execution_count": 16,
   "metadata": {},
   "outputs": [
    {
     "name": "stdout",
     "output_type": "stream",
     "text": [
      "1,Desktop,1000,1000\n",
      "2,Laptop,2000,2000\n",
      "3,Mouse,3000,3000\n",
      "4,Keyboard,4000,4000\n",
      "5,Monitor,5000,5000\n"
     ]
    }
   ],
   "source": [
    "fd=open('inventory.txt','r')\n",
    "txt=fd.read()\n",
    "print(txt)"
   ]
  },
  {
   "cell_type": "code",
   "execution_count": 17,
   "metadata": {},
   "outputs": [
    {
     "name": "stdout",
     "output_type": "stream",
     "text": [
      "1,Desktop,1000,1000\n",
      "\n",
      "2,Laptop,2000,2000\n",
      "\n",
      "3,Mouse,3000,3000\n",
      "\n",
      "4,Keyboard,4000,4000\n",
      "\n",
      "5,Monitor,5000,5000\n"
     ]
    }
   ],
   "source": [
    "fd=open('inventory.txt','r')\n",
    "txt=fd.readline()\n",
    "print(txt)\n",
    "txt=fd.readline()\n",
    "print(txt)\n",
    "txt=fd.readline()\n",
    "print(txt)\n",
    "txt=fd.readline()\n",
    "print(txt)\n",
    "txt=fd.readline()\n",
    "print(txt)\n",
    "\n",
    "\n"
   ]
  },
  {
   "cell_type": "code",
   "execution_count": 18,
   "metadata": {},
   "outputs": [
    {
     "name": "stdout",
     "output_type": "stream",
     "text": [
      "['1,Desktop,1000,1000\\n', '2,Laptop,2000,2000\\n', '3,Mouse,3000,3000\\n', '4,Keyboard,4000,4000\\n', '5,Monitor,5000,5000']\n"
     ]
    }
   ],
   "source": [
    "fd=open('inventory.txt','r')\n",
    "txt=fd.readlines()\n",
    "print(txt)"
   ]
  },
  {
   "cell_type": "markdown",
   "metadata": {},
   "source": [
    "### PRODUCT DETAILS"
   ]
  },
  {
   "cell_type": "code",
   "execution_count": 32,
   "metadata": {},
   "outputs": [
    {
     "name": "stdout",
     "output_type": "stream",
     "text": [
      "['1,Desktop,1000,900', '2,Laptop,2000,2000', '3,Mouse,3000,3000', '4,Keyboard,4000,4000', '5,Monitor,5000,500']\n"
     ]
    }
   ],
   "source": [
    "fd=open('inventory.txt','r')\n",
    "products=fd.read().split('\\n')\n",
    "print(products)"
   ]
  },
  {
   "cell_type": "code",
   "execution_count": 33,
   "metadata": {},
   "outputs": [
    {
     "name": "stdout",
     "output_type": "stream",
     "text": [
      "1\n",
      "Desktop\n",
      "1000\n",
      "900\n",
      "2\n",
      "Laptop\n",
      "2000\n",
      "2000\n",
      "3\n",
      "Mouse\n",
      "3000\n",
      "3000\n",
      "4\n",
      "Keyboard\n",
      "4000\n",
      "4000\n",
      "5\n",
      "Monitor\n",
      "5000\n",
      "500\n"
     ]
    }
   ],
   "source": [
    "for product in products:\n",
    "    prod_details = product.split(',')\n",
    "    print(prod_details[0])\n",
    "    print(prod_details[1])\n",
    "    print(prod_details[2])\n",
    "    print(prod_details[3])\n"
   ]
  },
  {
   "cell_type": "code",
   "execution_count": null,
   "metadata": {},
   "outputs": [
    {
     "name": "stdout",
     "output_type": "stream",
     "text": [
      "---------------------------------\n",
      "The Product id u want:1\n",
      "The Product name u want:Desktop\n",
      "The cost of Product u want:1000\n",
      "The quantity u want of the product: 100\n",
      "-------------------------------------\n",
      "Your total bill is 100000 Rupees! Cash or card ??\n",
      "-------------------------------------\n",
      "['1', 'Desktop', '1000', '1000']\n",
      "['2', 'Laptop', '2000', '2000']\n",
      "['3', 'Mouse', '3000', '3000']\n",
      "['4', 'Keyboard', '4000', '4000']\n",
      "['5', 'Monitor', '5000', '500']\n"
     ]
    }
   ],
   "source": [
    "#suppose a customer has given a id \n",
    "prod_id=input(\"please enter the product_id:\")\n",
    "prod_quan=input(\"please enter how many u want:\")\n",
    "print(\"---------------------------------\")\n",
    "for product in products:\n",
    "    prod_details=product.split(',')\n",
    "    if prod_details[0]==prod_id:\n",
    "        if int(prod_details[3])>=int(prod_quan):\n",
    "            print(\"The Product id u want:\"+prod_details[0])\n",
    "            print(\"The Product name u want:\"+prod_details[1])\n",
    "            print(\"The cost of Product u want:\"+prod_details[2])\n",
    "            print(\"The quantity u want of the product:\",prod_quan)\n",
    "            print(\"-------------------------------------\")\n",
    "            total_bill=int(prod_quan)*int(prod_details[2])\n",
    "            print(f\"Your total bill is {total_bill} Rupees! Cash or card ??\")\n",
    "        else:\n",
    "            print(f\"Sorry The product has only {prod_details[3]} parts left,please visit later ,Thank you\")\n",
    "        print(\"-------------------------------------\")\n",
    "    print(prod_details)\n",
    "    \n",
    "#the problem with this is, it will not update the quantity of the product in the inventory, it will show \n",
    "#the same even though products are reduced\n"
   ]
  },
  {
   "cell_type": "markdown",
   "metadata": {},
   "source": [
    "Updating the product details"
   ]
  },
  {
   "cell_type": "code",
   "execution_count": null,
   "metadata": {},
   "outputs": [
    {
     "name": "stdout",
     "output_type": "stream",
     "text": [
      "---------------------------------\n",
      "-------------------------------------\n",
      "['1', 'Desktop', '1000', '1000']\n",
      "-------------------------------------\n",
      "['2', 'Laptop', '2000', '2000']\n",
      "-------------------------------------\n",
      "['3', 'Mouse', '3000', '3000']\n",
      "-------------------------------------\n",
      "['4', 'Keyboard', '4000', '4000']\n",
      "-------------------------------------\n",
      "['5', 'Monitor', '5000', '500']\n"
     ]
    }
   ],
   "source": [
    "prod_id=input(\"please enter the product_id:\")\n",
    "prod_quan=input(\"please enter how many u want:\")\n",
    "updated_product_lst=[]\n",
    "print(\"---------------------------------\")\n",
    "for product in products:\n",
    "    prod_details=product.split(',')\n",
    "    if prod_details[0]==prod_id:\n",
    "        if int(prod_details[3])>=int(prod_quan):\n",
    "            print(\"The Product id u want:\"+prod_details[0])\n",
    "            print(\"The Product name u want:\"+prod_details[1])\n",
    "            print(\"The cost of Product u want:\"+prod_details[2])\n",
    "            print(\"The quantity u want of the product:\",prod_quan)\n",
    "            print(\"-------------------------------------\")\n",
    "            total_bill=int(prod_quan)*int(prod_details[2])\n",
    "            print(f\"Your total bill is {total_bill} Rupees! Cash or card ??\")\n",
    "            prod_details[3]=str(int(prod_details[3])-int(prod_quan))\n",
    "        else:\n",
    "            print(f\"Sorry The product has only {prod_details[3]} parts left,please visit later ,Thank you\")\n",
    "        \n",
    "    \n",
    "    print(\"-------------------------------------\")\n",
    "    print(prod_details)\n",
    "    \"\"\"the problem is that it is not updating the product list only one time for one operation initial is always the \n",
    "    1000 for product 1\"\"\"\n",
    "\n",
    "\n",
    "    \n"
   ]
  },
  {
   "cell_type": "code",
   "execution_count": null,
   "metadata": {},
   "outputs": [
    {
     "name": "stdout",
     "output_type": "stream",
     "text": [
      "---------------------------------\n",
      "-------------------------------------\n",
      "['1', 'Desktop', '1000', '600']\n",
      "The Product id u want:2\n",
      "The Product name u want:Laptop\n",
      "The cost of Product u want:2000\n",
      "The quantity u want of the product: 200\n",
      "-------------------------------------\n",
      "Your total bill is 400000 Rupees! Cash or card ??\n",
      "-------------------------------------\n",
      "['2', 'Laptop', '2000', '600']\n",
      "-------------------------------------\n",
      "['3', 'Mouse', '3000', '2000']\n",
      "-------------------------------------\n",
      "['4', 'Keyboard', '4000', '4000']\n",
      "-------------------------------------\n",
      "['5', 'Monitor', '5000', '5000']\n",
      "-------------------------------------\n",
      "['']\n"
     ]
    },
    {
     "ename": "IndexError",
     "evalue": "list index out of range",
     "output_type": "error",
     "traceback": [
      "\u001b[1;31m---------------------------------------------------------------------------\u001b[0m",
      "\u001b[1;31mIndexError\u001b[0m                                Traceback (most recent call last)",
      "Cell \u001b[1;32mIn[25], line 59\u001b[0m\n\u001b[0;32m     57\u001b[0m \u001b[38;5;28;01mwith\u001b[39;00m \u001b[38;5;28mopen\u001b[39m(\u001b[38;5;124m\"\u001b[39m\u001b[38;5;124minventory.txt\u001b[39m\u001b[38;5;124m\"\u001b[39m, \u001b[38;5;124m\"\u001b[39m\u001b[38;5;124mw\u001b[39m\u001b[38;5;124m\"\u001b[39m) \u001b[38;5;28;01mas\u001b[39;00m f:\n\u001b[0;32m     58\u001b[0m     \u001b[38;5;28;01mfor\u001b[39;00m i \u001b[38;5;129;01min\u001b[39;00m updated_product_lst:\n\u001b[1;32m---> 59\u001b[0m         prod\u001b[38;5;241m=\u001b[39mi[\u001b[38;5;241m0\u001b[39m]\u001b[38;5;241m+\u001b[39m\u001b[38;5;124m\"\u001b[39m\u001b[38;5;124m,\u001b[39m\u001b[38;5;124m\"\u001b[39m\u001b[38;5;241m+\u001b[39m\u001b[43mi\u001b[49m\u001b[43m[\u001b[49m\u001b[38;5;241;43m1\u001b[39;49m\u001b[43m]\u001b[49m\u001b[38;5;241m+\u001b[39m\u001b[38;5;124m\"\u001b[39m\u001b[38;5;124m,\u001b[39m\u001b[38;5;124m\"\u001b[39m\u001b[38;5;241m+\u001b[39mi[\u001b[38;5;241m2\u001b[39m]\u001b[38;5;241m+\u001b[39m\u001b[38;5;124m\"\u001b[39m\u001b[38;5;124m,\u001b[39m\u001b[38;5;124m\"\u001b[39m\u001b[38;5;241m+\u001b[39mi[\u001b[38;5;241m3\u001b[39m]\u001b[38;5;241m+\u001b[39m\u001b[38;5;124m\"\u001b[39m\u001b[38;5;130;01m\\n\u001b[39;00m\u001b[38;5;124m\"\u001b[39m\n\u001b[0;32m     60\u001b[0m         lst\u001b[38;5;241m.\u001b[39mappend(prod)\n\u001b[0;32m     61\u001b[0m \u001b[38;5;66;03m#removing the last \\n from the list\u001b[39;00m\n",
      "\u001b[1;31mIndexError\u001b[0m: list index out of range"
     ]
    }
   ],
   "source": [
    "import time\n",
    "#reading from the products line by line\n",
    "with open(\"inventory.txt\", \"r\") as f:\n",
    "    products=f.read().split(\"\\n\")\n",
    "#asking user how much quantity of product they want and its id\n",
    "prod_id=input(\"please enter the product_id:\")\n",
    "prod_quan=input(\"please enter how many u want:\")\n",
    "user_name=input(\"please enter your name:\")\n",
    "user_phone=input(\"please enter your phone number:\")\n",
    "user_email=input(\"please enter your email:id:\")\n",
    "updated_product_lst=[]\n",
    "print(\"---------------------------------\")\n",
    "#checking if the product is available or not\n",
    "for product in products:\n",
    "    prod_details=product.split(',')\n",
    "    if prod_details[0]==prod_id:\n",
    "        #checking if the quantity is available or not\n",
    "        if int(prod_details[3])>=int(prod_quan):\n",
    "            print(\"The Product id u want:\"+prod_details[0])\n",
    "            print(\"The Product name u want:\"+prod_details[1])\n",
    "            print(\"The cost of Product u want:\"+prod_details[2])\n",
    "            print(\"The quantity u want of the product:\",prod_quan)\n",
    "            print(\"-------------------------------------\")\n",
    "            total_bill=int(prod_quan)*int(prod_details[2])\n",
    "            print(f\"Your total bill is {total_bill} Rupees! Cash or card ??\")\n",
    "            prod_details[3]=str(int(prod_details[3])-int(prod_quan))\n",
    "            #if quantity is not sufficient ask user if he takes enitre quantity or not if yes make a purchase \n",
    "            with open(\"sales.txt\",\"a\") as f:\n",
    "                sales_details=user_name+\",\"+ user_phone+\",\"+user_email+\",\"+prod_quan+\",\"+prod_details[2]+\",\"+str(total_bill)+time.ctime()+\"\\n\"\n",
    "                f.write(sales_details)\n",
    "        else:\n",
    "            print(f\"Sorry The product has only {prod_details[3]} parts left,please visit later ,Thank you\")\n",
    "            print(\"Would you like to purchase it?\")\n",
    "            print(\"Y/N\")\n",
    "            user_choice=input(\"Please enter your choice:\")\n",
    "            if user_choice==\"Y\" or user_choice==\"y\":\n",
    "                print(\"Thank you for purchasing\")\n",
    "                print(\"The Product id u want:\"+prod_details[0])\n",
    "                print(\"The Product name u want:\"+prod_details[1])\n",
    "                print(\"The cost of Product u want:\"+prod_details[2])\n",
    "                print(\"The quantity u want of the product:\",prod_details[3])\n",
    "                print(\"-------------------------------------\")\n",
    "                total_bill=int(prod_details[3])*int(prod_details[2])\n",
    "                print(f\"Your total bill is {total_bill} Rupees! Cash or card ??\")\n",
    "                prod_details[3]='0'\n",
    "                with open(\"sales.txt\",\"a\") as f:\n",
    "                    sales_details=user_name+\",\"+ user_phone+\",\"+user_email+\",\"+prod_details[3]+\",\"+prod_details[2]+\",\"+str(total_bill)+time.ctime()+\"\\n\"\n",
    "                    f.write(sales_details)\n",
    "                \n",
    "            else:\n",
    "                print(\"Thank you\")\n",
    "        \n",
    "    updated_product_lst.append(prod_details)\n",
    "    print(\"-------------------------------------\")\n",
    "    print(prod_details)\n",
    "\n",
    "with open(\"inventory.txt\", \"w\") as f:\n",
    "    for i in updated_product_lst:\n",
    "        f.write(i[0]+\",\"+i[1]+\",\"+i[2]+\",\"+i[3]+\"\\n\")\n",
    "\n",
    "    \n"
   ]
  },
  {
   "cell_type": "code",
   "execution_count": 37,
   "metadata": {},
   "outputs": [
    {
     "name": "stdout",
     "output_type": "stream",
     "text": [
      "1,Desktop,1000,800\n",
      "2,Laptop,2000,2000\n",
      "3,Mouse,3000,3000\n",
      "4,Keyboard,4000,4000\n",
      "5,Monitor,5000,500\n"
     ]
    }
   ],
   "source": [
    "for i in updated_product_lst:\n",
    "    print(i[0]+\",\"+i[1]+\",\"+i[2]+\",\"+i[3])"
   ]
  },
  {
   "cell_type": "code",
   "execution_count": null,
   "metadata": {},
   "outputs": [],
   "source": []
  },
  {
   "cell_type": "code",
   "execution_count": 38,
   "metadata": {},
   "outputs": [],
   "source": [
    "with open(\"inventory.txt\", \"w\") as f:\n",
    "    for i in updated_product_lst:\n",
    "        f.write(i[0]+\",\"+i[1]+\",\"+i[2]+\",\"+i[3]+\"\\n\")\n",
    "    "
   ]
  },
  {
   "cell_type": "code",
   "execution_count": null,
   "metadata": {},
   "outputs": [],
   "source": []
  }
 ],
 "metadata": {
  "kernelspec": {
   "display_name": "Python 3",
   "language": "python",
   "name": "python3"
  },
  "language_info": {
   "codemirror_mode": {
    "name": "ipython",
    "version": 3
   },
   "file_extension": ".py",
   "mimetype": "text/x-python",
   "name": "python",
   "nbconvert_exporter": "python",
   "pygments_lexer": "ipython3",
   "version": "3.10.14"
  }
 },
 "nbformat": 4,
 "nbformat_minor": 2
}
