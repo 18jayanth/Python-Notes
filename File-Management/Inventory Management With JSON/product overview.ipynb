{
 "cells": [
  {
   "cell_type": "code",
   "execution_count": 27,
   "metadata": {},
   "outputs": [],
   "source": [
    "import json\n",
    "record={1001:{\"name\":\"apple\",\"price\":100,\"quantity\":100},\n",
    "\n",
    "1002:{\"name\":\"orange\",\"price\":120,\"quantity\":200},\n",
    "1003:{\"name\":\"banana\",\"price\":150,\"quantity\":300},\n",
    "1004:{\"name\":\"grapes\",\"price\":100,\"quantity\":400},\n",
    "1005:{\"name\":\"mango\",\"price\":120,\"quantity\":500}}"
   ]
  },
  {
   "cell_type": "code",
   "execution_count": 28,
   "metadata": {},
   "outputs": [],
   "source": [
    "record={1001: {'name': 'apple', 'price': 100, 'quantity': 100},\n",
    " 1002: {'name': 'orange', 'price': 120, 'quantity': 200},\n",
    " 1003: {'name': 'banana', 'price': 150, 'quantity': 300},\n",
    " 1004: {'name': 'grapes', 'price': 100, 'quantity': 400},\n",
    " 1005: {'name': 'mango', 'price': 120, 'quantity': 500}}"
   ]
  },
  {
   "cell_type": "code",
   "execution_count": 29,
   "metadata": {},
   "outputs": [
    {
     "name": "stdout",
     "output_type": "stream",
     "text": [
      "{\"1001\": {\"name\": \"apple\", \"price\": 100, \"quantity\": 100}, \"1002\": {\"name\": \"orange\", \"price\": 120, \"quantity\": 200}, \"1003\": {\"name\": \"banana\", \"price\": 150, \"quantity\": 300}, \"1004\": {\"name\": \"grapes\", \"price\": 100, \"quantity\": 400}, \"1005\": {\"name\": \"mango\", \"price\": 120, \"quantity\": 500}}\n"
     ]
    }
   ],
   "source": [
    "js=json.dumps(record)\n",
    "print(js)"
   ]
  },
  {
   "cell_type": "code",
   "execution_count": 30,
   "metadata": {},
   "outputs": [
    {
     "data": {
      "text/plain": [
       "{1001: {'name': 'apple', 'price': 100, 'quantity': 100},\n",
       " 1002: {'name': 'orange', 'price': 120, 'quantity': 200},\n",
       " 1003: {'name': 'banana', 'price': 150, 'quantity': 300},\n",
       " 1004: {'name': 'grapes', 'price': 100, 'quantity': 400},\n",
       " 1005: {'name': 'mango', 'price': 120, 'quantity': 500}}"
      ]
     },
     "execution_count": 30,
     "metadata": {},
     "output_type": "execute_result"
    }
   ],
   "source": [
    "record"
   ]
  },
  {
   "cell_type": "code",
   "execution_count": 31,
   "metadata": {},
   "outputs": [
    {
     "name": "stdout",
     "output_type": "stream",
     "text": [
      "apple\n",
      "100\n",
      "100\n"
     ]
    }
   ],
   "source": [
    "print(record[1001][\"name\"])\n",
    "print(record[1001][\"price\"])\n",
    "print(record[1001][\"quantity\"])"
   ]
  },
  {
   "cell_type": "code",
   "execution_count": 32,
   "metadata": {},
   "outputs": [
    {
     "name": "stdout",
     "output_type": "stream",
     "text": [
      "('1001', {'name': 'apple', 'price': 100, 'quantity': 0})\n",
      "('1002', {'name': 'orange', 'price': 120, 'quantity': 0})\n",
      "('1003', {'name': 'banana', 'price': 150, 'quantity': 300})\n",
      "('1004', {'name': 'grapes', 'price': 100, 'quantity': 400})\n",
      "('1005', {'name': 'mango', 'price': 120, 'quantity': 500})\n"
     ]
    }
   ],
   "source": [
    "import json\n",
    "file=open(\"products.json\",\"r\")\n",
    "js=file.read()\n",
    "file.close()\n",
    "record=json.loads(js)\n",
    "for key in record.items():\n",
    "    print(key)"
   ]
  },
  {
   "cell_type": "markdown",
   "metadata": {},
   "source": [
    "### Adding Functionality to the Inventory Management System"
   ]
  },
  {
   "cell_type": "code",
   "execution_count": null,
   "metadata": {},
   "outputs": [
    {
     "name": "stdout",
     "output_type": "stream",
     "text": [
      "---------------------------------------------------------\n",
      "{'1001': {'name': 'apple', 'price': 100, 'quantity': 0}, '1002': {'name': 'orange', 'price': 120, 'quantity': 0}, '1003': {'name': 'banana', 'price': 150, 'quantity': 300}, '1004': {'name': 'grapes', 'price': 100, 'quantity': 400}, '1005': {'name': 'mango', 'price': 120, 'quantity': 500}}\n",
      "1001 : apple | 100 | 0\n",
      "1002 : orange | 120 | 0\n",
      "1003 : banana | 150 | 300\n",
      "1004 : grapes | 100 | 400\n",
      "1005 : mango | 120 | 500\n",
      "---------------------------------------------------------\n"
     ]
    },
    {
     "name": "stdout",
     "output_type": "stream",
     "text": [
      "---------------------------------------------------------\n",
      "Sorry, we dont have that much quantity we only have 0\n",
      "---------------------------------------------------------\n",
      "If u still want to purchase,presss y/Y \n",
      "Thanks For shopping\n"
     ]
    }
   ],
   "source": [
    "#read from products.json  convert to dictionary, complete transaction, write back to products.json\n",
    "import json \n",
    "#first read the json file\n",
    "file=open(\"products.json\",\"r\")\n",
    "js=file.read()\n",
    "file.close() \n",
    "#convert json to dictionary\n",
    "record=json.loads(js)\n",
    "print(\"---------------------------------------------------------\")\n",
    "print(record)\n",
    "#print the product details\n",
    "for key in record.keys():\n",
    "    print(key,':',record[key][\"name\"],'|',record[key][\"price\"],'|',record[key][\"quantity\"])\n",
    "print(\"---------------------------------------------------------\")\n",
    "#take input from user\n",
    "ui_id=str(input(\"Enter the id of the product you want to buy: \"))\n",
    "ui_quantity=int(input(\"Enter the quantity: \"))\n",
    "#check   if the quantity is sufficient for user or not\n",
    "\n",
    "if record[ui_id][\"quantity\"]>=ui_quantity:\n",
    "    print(\"------------------------BILL--------------------------------\")\n",
    "    print(\"Product: \",record[ui_id][\"name\"])\n",
    "    print(\"Price: \",record[ui_id][\"price\"])\n",
    "    print(\"Quantity: \",ui_quantity)\n",
    "    print(\"Billing Amount\",ui_quantity*record[ui_id]['price'])\n",
    "    #update the quantity in the dictionary\n",
    "    record[ui_id][\"quantity\"]=record[ui_id][\"quantity\"]-ui_quantity\n",
    "    print(\"---------------------------------------------------------\")\n",
    "    #write the dictionary to the json file\n",
    "    js=json.dumps(record)\n",
    "\n",
    "#if the quantity is not sufficient then ask the user if he wants to buy the remaining quantity\n",
    "#if the user wants to buy the remaining quantity then update the quantity in the dictionary\n",
    "else:\n",
    "    print(\"---------------------------------------------------------\")\n",
    "    print(\"Sorry, we dont have that much quantity we only have\",record[ui_id][\"quantity\"])\n",
    "    print(\"---------------------------------------------------------\")\n",
    "    print(\"If u still want to purchase,presss y/Y \")\n",
    "    if input()=='y' or input()=='Y':\n",
    "        print(\"------------------------BILL--------------------------------\")\n",
    "        print(\"Product: \",record[ui_id][\"name\"])\n",
    "        print(\"Price: \",record[ui_id][\"price\"])\n",
    "        print(\"Quantity: \",record[ui_id][\"quantity\"])\n",
    "        print(\"Billing Amount\",record[ui_id][\"quantity\"] * record[ui_id]['price'])\n",
    "        print(\"---------------------------------------------------------\")\n",
    "        #update the quantity in the dictionary\n",
    "        record[ui_id][\"quantity\"]=0\n",
    "        #update the json file\n",
    "        #write the dictionary to the json file\n",
    "        js=json.dumps(record)\n",
    "        print(\"---------------------------------------------------------\")\n",
    "        \n",
    "    else:\n",
    "        #if the  user does not want to buy the remaining quantity then exit the program\n",
    "        print(\"Thanks For shopping\")\n",
    "  \n",
    "with open('products.json','w') as f:\n",
    "    f.write(js)"
   ]
  },
  {
   "cell_type": "code",
   "execution_count": 25,
   "metadata": {},
   "outputs": [
    {
     "data": {
      "text/plain": [
       "{'1001': {'name': 'apple', 'price': 100, 'quantity': 0},\n",
       " '1002': {'name': 'orange', 'price': 120, 'quantity': 0},\n",
       " '1003': {'name': 'banana', 'price': 150, 'quantity': 300},\n",
       " '1004': {'name': 'grapes', 'price': 100, 'quantity': 400},\n",
       " '1005': {'name': 'mango', 'price': 120, 'quantity': 500}}"
      ]
     },
     "execution_count": 25,
     "metadata": {},
     "output_type": "execute_result"
    }
   ],
   "source": [
    "record"
   ]
  },
  {
   "cell_type": "code",
   "execution_count": 9,
   "metadata": {},
   "outputs": [],
   "source": [
    "#inventory is not updated we need to update it\n",
    "import json\n",
    "js=json.dumps(record)"
   ]
  },
  {
   "cell_type": "code",
   "execution_count": 34,
   "metadata": {},
   "outputs": [
    {
     "data": {
      "text/plain": [
       "'{\"1001\": {\"name\": \"apple\", \"price\": 100, \"quantity\": 0}, \"1002\": {\"name\": \"orange\", \"price\": 120, \"quantity\": 0}, \"1003\": {\"name\": \"banana\", \"price\": 150, \"quantity\": 300}, \"1004\": {\"name\": \"grapes\", \"price\": 100, \"quantity\": 400}, \"1005\": {\"name\": \"mango\", \"price\": 120, \"quantity\": 500}}'"
      ]
     },
     "execution_count": 34,
     "metadata": {},
     "output_type": "execute_result"
    }
   ],
   "source": [
    "js"
   ]
  },
  {
   "cell_type": "markdown",
   "metadata": {},
   "source": [
    "## Generating Sales"
   ]
  },
  {
   "cell_type": "code",
   "execution_count": 46,
   "metadata": {},
   "outputs": [
    {
     "name": "stdout",
     "output_type": "stream",
     "text": [
      "---------------------------------------------------------\n",
      "{'1001': {'name': 'apple', 'price': 100, 'quantity': 100}, '1002': {'name': 'orange', 'price': 120, 'quantity': 200}, '1003': {'name': 'banana', 'price': 150, 'quantity': 0}, '1004': {'name': 'grapes', 'price': 100, 'quantity': 200}, '1005': {'name': 'mango', 'price': 120, 'quantity': 500}}\n",
      "1001 : apple | 100 | 100\n",
      "1002 : orange | 120 | 200\n",
      "1003 : banana | 150 | 0\n",
      "1004 : grapes | 100 | 200\n",
      "1005 : mango | 120 | 500\n",
      "---------------------------------------------------------\n",
      "------------------------BILL--------------------------------\n",
      "Product:  apple\n",
      "Price:  100\n",
      "Quantity:  50\n",
      "You got 10% discount\n",
      "You got 18% GST\n",
      "Billing Amount 5310.0\n",
      "You got 20% discount\n",
      "You got 20% GST\n",
      "Billing Amount 4248.0\n",
      "---------------------------------------------------------\n"
     ]
    }
   ],
   "source": [
    "import time\n",
    "sale=''\n",
    "#read from products.json  convert to dictionary, complete transaction, write back to products.json\n",
    "import json \n",
    "#first read the json file\n",
    "file=open(\"products.json\",\"r\")\n",
    "js=file.read()\n",
    "file.close() \n",
    "#convert json to dictionary\n",
    "record=json.loads(js)\n",
    "print(\"---------------------------------------------------------\")\n",
    "print(record)\n",
    "#print the product details\n",
    "for key in record.keys():\n",
    "    print(key,':',record[key][\"name\"],'|',record[key][\"price\"],'|',record[key][\"quantity\"])\n",
    "print(\"---------------------------------------------------------\")\n",
    "#take input from user\n",
    "ui_id=str(input(\"Enter the id of the product you want to buy: \"))\n",
    "ui_quantity=int(input(\"Enter the quantity: \"))\n",
    "ui_name=str(input(\"Enter your Name: \"))\n",
    "ui_email=str(input(\"Enter your email: \"))\n",
    "ui_phone=str(input(\"Enter your phone number: \"))\n",
    "#check   if the quantity is sufficient for user or not\n",
    "\n",
    "if record[ui_id][\"quantity\"]>=ui_quantity:\n",
    "    print(\"------------------------BILL--------------------------------\")\n",
    "    print(\"Product: \",record[ui_id][\"name\"])\n",
    "    print(\"Price: \",record[ui_id][\"price\"])\n",
    "    print(\"Quantity: \",ui_quantity)\n",
    "    a=ui_quantity*record[ui_id]['price']\n",
    "    if a>=1000:\n",
    "            a=a-a*0.1\n",
    "            print(\"You got 10% discount\")\n",
    "            a=a+0.18*a\n",
    "            print(\"You got 18% GST\")\n",
    "            print(\"Billing Amount\",a)\n",
    "    if a>=5000:\n",
    "            a=a-a*0.2\n",
    "            print(\"You got 20% discount\")\n",
    "            a-a+0.20*a\n",
    "            print(\"You got 20% GST\")\n",
    "            print(\"Billing Amount\",a)\n",
    "    if a>=10000:\n",
    "            a=a-a*0.3\n",
    "            print(\"You got 30% discount\")\n",
    "            a=a+0.24*a\n",
    "            print(\"You got 24% GST\")\n",
    "            print(\"Billing Amount\",a)\n",
    "\n",
    "    sale=ui_name+','+ui_email+','+ui_phone+','+ui_id+','+str(ui_quantity)+','+str(record[ui_id][\"price\"])+','+str(a)+','+time.ctime()+\"\\n\"\n",
    "    #update the quantity in the dictionary\n",
    "    record[ui_id][\"quantity\"]=record[ui_id][\"quantity\"]-ui_quantity\n",
    "    \n",
    "    with open('sales.txt','a') as f:\n",
    "        f.write(sale)\n",
    "    print(\"---------------------------------------------------------\")\n",
    "    #write the dictionary to the json file\n",
    "    js=json.dumps(record)\n",
    "\n",
    "#if the quantity is not sufficient then ask the user if he wants to buy the remaining quantity\n",
    "#if the user wants to buy the remaining quantity then update the quantity in the dictionary\n",
    "else:\n",
    "    print(\"---------------------------------------------------------\")\n",
    "    print(\"Sorry, we dont have that much quantity we only have\",record[ui_id][\"quantity\"])\n",
    "    print(\"---------------------------------------------------------\")\n",
    "    print(\"If u still want to purchase,presss y/Y \")\n",
    "    if input()=='y' or input()=='Y':\n",
    "        print(\"------------------------BILL--------------------------------\")\n",
    "        print(\"Product: \",record[ui_id][\"name\"])\n",
    "        print(\"Price: \",record[ui_id][\"price\"])\n",
    "        print(\"Quantity: \",record[ui_id][\"quantity\"])\n",
    "        a=record[ui_id][\"quantity\"] * record[ui_id]['price']\n",
    "        if a>=1000:\n",
    "            a=a-a*0.1\n",
    "            print(\"You got 10% discount\")\n",
    "            a=a+0.18*a\n",
    "            print(\"You got 18% GST\")\n",
    "            print(\"Billing Amount\",a)\n",
    "        \n",
    "        if a>=5000:\n",
    "            a=a-a*0.2\n",
    "            print(\"You got 20% discount\")\n",
    "            a-a+0.20*a\n",
    "            print(\"You got 20% GST\")\n",
    "            print(\"Billing Amount\",a)\n",
    "        if a>=10000:\n",
    "            a=a-a*0.3\n",
    "            print(\"You got 30% discount\")\n",
    "            a=a+0.24*a\n",
    "            print(\"You got 24% GST\")\n",
    "            print(\"Billing Amount\",a)\n",
    "        print(\"---------------------------------------------------------\")\n",
    "        sale=ui_name+','+ui_email+','+ui_phone+','+ui_id+','+str(record[ui_id][\"quantity\"])+','+str(record[ui_id][\"price\"])+','+str(a)+time.ctime()+\"\\n\"\n",
    "        #update the quantity in the dictionary\n",
    "        record[ui_id][\"quantity\"]=0\n",
    "        \n",
    "        with open('sales.txt','a') as f:\n",
    "            f.write(sale)\n",
    "        #update the json file\n",
    "        #write the dictionary to the json file\n",
    "        js=json.dumps(record)\n",
    "        print(\"---------------------------------------------------------\")\n",
    "        \n",
    "    else:\n",
    "        #if the  user does not want to buy the remaining quantity then exit the program\n",
    "        print(\"Thanks For shopping\")\n",
    "  \n",
    "with open('products.json','w') as f:\n",
    "    f.write(js)"
   ]
  },
  {
   "cell_type": "code",
   "execution_count": 47,
   "metadata": {},
   "outputs": [
    {
     "data": {
      "text/plain": [
       "'qwe,qwe@gmail.com,1234,1001,50,100,4248.0,Wed Dec 18 19:56:57 2024\\n'"
      ]
     },
     "execution_count": 47,
     "metadata": {},
     "output_type": "execute_result"
    }
   ],
   "source": [
    "sale"
   ]
  },
  {
   "cell_type": "code",
   "execution_count": null,
   "metadata": {},
   "outputs": [],
   "source": [
    "with open('sales.txt','a') as f:\n",
    "    f.write(sale)"
   ]
  },
  {
   "cell_type": "code",
   "execution_count": null,
   "metadata": {},
   "outputs": [],
   "source": []
  },
  {
   "cell_type": "code",
   "execution_count": null,
   "metadata": {},
   "outputs": [],
   "source": []
  },
  {
   "cell_type": "code",
   "execution_count": null,
   "metadata": {},
   "outputs": [],
   "source": []
  },
  {
   "cell_type": "code",
   "execution_count": null,
   "metadata": {},
   "outputs": [],
   "source": []
  },
  {
   "cell_type": "code",
   "execution_count": null,
   "metadata": {},
   "outputs": [],
   "source": []
  },
  {
   "cell_type": "code",
   "execution_count": null,
   "metadata": {},
   "outputs": [],
   "source": []
  },
  {
   "cell_type": "code",
   "execution_count": null,
   "metadata": {},
   "outputs": [],
   "source": []
  }
 ],
 "metadata": {
  "kernelspec": {
   "display_name": "Python 3",
   "language": "python",
   "name": "python3"
  },
  "language_info": {
   "codemirror_mode": {
    "name": "ipython",
    "version": 3
   },
   "file_extension": ".py",
   "mimetype": "text/x-python",
   "name": "python",
   "nbconvert_exporter": "python",
   "pygments_lexer": "ipython3",
   "version": "3.10.14"
  }
 },
 "nbformat": 4,
 "nbformat_minor": 2
}
