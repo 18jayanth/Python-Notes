{
 "cells": [
  {
   "cell_type": "code",
   "execution_count": 2,
   "metadata": {},
   "outputs": [
    {
     "name": "stdout",
     "output_type": "stream",
     "text": [
      "Jayanth is a good boy\n",
      "He is Very Cute\n",
      "He is handsome too\n",
      "He is also Intelligent\n"
     ]
    }
   ],
   "source": [
    "#read a field\n",
    "with open('file.txt','r') as f:\n",
    "    print(f.read())\n"
   ]
  },
  {
   "cell_type": "code",
   "execution_count": 4,
   "metadata": {},
   "outputs": [
    {
     "name": "stdout",
     "output_type": "stream",
     "text": [
      "Jayanth is a good boy\n",
      "He is Very Cute\n",
      "He is handsome too\n",
      "He is also Intelligent\n"
     ]
    }
   ],
   "source": [
    "# to read line by line \n",
    "with open('file.txt','r') as f:\n",
    "    for line in f:\n",
    "        print(line.strip())\n"
   ]
  },
  {
   "cell_type": "code",
   "execution_count": 6,
   "metadata": {},
   "outputs": [],
   "source": [
    "#to overwrite a file use write\n",
    "with open('file.txt','w') as file:\n",
    "    file.write('Hello World\\n')\n",
    "    file.write('Hello jayanth')\n",
    "    # it will remove if data existed and writes this new data"
   ]
  },
  {
   "cell_type": "code",
   "execution_count": 7,
   "metadata": {},
   "outputs": [],
   "source": [
    "# to write the data without overwriting\n",
    "with open('file.txt', 'a') as file:\n",
    "    file.write('\\nSecond line\\n')\n",
    "    file.write('Third line\\n')"
   ]
  },
  {
   "cell_type": "code",
   "execution_count": 10,
   "metadata": {},
   "outputs": [],
   "source": [
    "#to write list of lines\n",
    "with open('file.txt','a') as file:\n",
    "    list1=[\"1\",\"2\",\"3\",\"4\",\"5\"]\n",
    "    file.writelines(list1)"
   ]
  },
  {
   "cell_type": "code",
   "execution_count": 1,
   "metadata": {},
   "outputs": [],
   "source": [
    "#writing and reading in  a binary file\n",
    "data=b'\\x00\\x01\\x02'\n",
    "with open(\"newfile.bin\",'wb') as f:\n",
    "    f.write(data)\n",
    "\n"
   ]
  },
  {
   "cell_type": "code",
   "execution_count": 3,
   "metadata": {},
   "outputs": [
    {
     "name": "stdout",
     "output_type": "stream",
     "text": [
      "b'\\x00\\x01\\x02'\n"
     ]
    }
   ],
   "source": [
    "#reading from binary file\n",
    "with open('newfile.bin', 'rb') as file:\n",
    "    print(file.read())"
   ]
  },
  {
   "cell_type": "code",
   "execution_count": 9,
   "metadata": {},
   "outputs": [
    {
     "name": "stdout",
     "output_type": "stream",
     "text": [
      "No of words: 9\n",
      "No of chars: 54\n",
      "No of lines: 5\n"
     ]
    }
   ],
   "source": [
    "#to count no of lines,words,chars from a file\n",
    "def count(file):\n",
    "    with open(\"file.txt\",'r') as file:\n",
    "        \n",
    "        \n",
    "        lines=file.readlines()\n",
    "        \n",
    "        words=sum([ len(line.split()) for line in lines])\n",
    "        chars=sum([len(line) for line in lines])\n",
    "    return (lines,words,chars)\n",
    "lines,words,chars=count('file.txt')\n",
    "print(f\"No of words: {words}\")\n",
    "print(f\"No of chars: {chars}\")\n",
    "print(f\"No of lines: {len(lines)}\")\n",
    "\n"
   ]
  },
  {
   "cell_type": "code",
   "execution_count": 12,
   "metadata": {},
   "outputs": [
    {
     "name": "stdout",
     "output_type": "stream",
     "text": [
      "['append.py', 'file.txt', 'file.write.py', 'files.ipynb', 'files.py', 'files.txt', 'file_other_functions.py', 'newfile.bin', 'with statement.py']\n"
     ]
    }
   ],
   "source": [
    "#lisiting files in a directory\n",
    "import os\n",
    "items=os.listdir('.')\n",
    "print(items)"
   ]
  },
  {
   "cell_type": "code",
   "execution_count": 18,
   "metadata": {},
   "outputs": [],
   "source": [
    "#joining path\n",
    "new_dir=\"File Management\"\n",
    "new_file=\"file2.txt\"\n",
    "full_path=os.path.join(new_dir,new_file)\n",
    "full_path=os.path.join(os.getcwd(),new_dir,new_file)"
   ]
  },
  {
   "cell_type": "code",
   "execution_count": 21,
   "metadata": {},
   "outputs": [
    {
     "name": "stdout",
     "output_type": "stream",
     "text": [
      "false\n"
     ]
    }
   ],
   "source": [
    "path='example.txt'\n",
    "if os.path.exists(path):\n",
    "    print(\"true\")\n",
    "else:\n",
    "    print(\"false\")"
   ]
  },
  {
   "cell_type": "code",
   "execution_count": 23,
   "metadata": {},
   "outputs": [
    {
     "name": "stdout",
     "output_type": "stream",
     "text": [
      "d:\\Python Full Tutorial\\File Management\\example.txt\n"
     ]
    }
   ],
   "source": [
    "rel_path='example.txt'\n",
    "print(os.path.abspath(rel_path))"
   ]
  },
  {
   "cell_type": "code",
   "execution_count": null,
   "metadata": {},
   "outputs": [],
   "source": []
  }
 ],
 "metadata": {
  "kernelspec": {
   "display_name": "Python 3",
   "language": "python",
   "name": "python3"
  },
  "language_info": {
   "codemirror_mode": {
    "name": "ipython",
    "version": 3
   },
   "file_extension": ".py",
   "mimetype": "text/x-python",
   "name": "python",
   "nbconvert_exporter": "python",
   "pygments_lexer": "ipython3",
   "version": "3.10.14"
  }
 },
 "nbformat": 4,
 "nbformat_minor": 2
}
